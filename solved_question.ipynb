{
 "cells": [
  {
   "cell_type": "markdown",
   "metadata": {},
   "source": [
    "# All installs"
   ]
  },
  {
   "cell_type": "code",
   "execution_count": 18,
   "metadata": {},
   "outputs": [],
   "source": [
    "# !pip install pyspark"
   ]
  },
  {
   "cell_type": "code",
   "execution_count": 19,
   "metadata": {},
   "outputs": [],
   "source": [
    "# !pip freeze > requirements.txt"
   ]
  },
  {
   "cell_type": "markdown",
   "metadata": {},
   "source": [
    "# Imports"
   ]
  },
  {
   "cell_type": "code",
   "execution_count": 20,
   "metadata": {},
   "outputs": [],
   "source": [
    "\n",
    "from All_details import *\n",
    "\n",
    "from pyspark.sql import SparkSession , functions as F\n",
    "\n",
    "from pyspark.sql.types import FloatType\n",
    "\n",
    "from pyspark.sql.window import Window \n",
    "\n",
    "spark = SparkSession.builder.appName('Crimes_in_Boston')\\\n",
    "    .config('spark.driver.extraClassPath', '/usr/lib/jvm/java-17-openjdk-amd64/lib/postgresql-42.5.0.jar')\\\n",
    "    .getOrCreate()\n",
    "################################## jar file path maybe different for you ######################################"
   ]
  },
  {
   "cell_type": "markdown",
   "metadata": {},
   "source": [
    "# Load csv into spark"
   ]
  },
  {
   "cell_type": "code",
   "execution_count": 21,
   "metadata": {},
   "outputs": [],
   "source": [
    "crimes_df = spark.read.csv('DATA/crimes.csv', header=True, inferSchema=True)\n",
    "offense_codes_df = spark.read.csv('DATA/offense_codes.csv', header=True, inferSchema=True)\n",
    "police_district_codes_df = spark.read.csv('DATA/police_district_codes.csv', header=True, inferSchema=True)"
   ]
  },
  {
   "cell_type": "markdown",
   "metadata": {},
   "source": [
    "# Preprocessing\n",
    "\n",
    "perform all preprocessing here"
   ]
  },
  {
   "cell_type": "code",
   "execution_count": 22,
   "metadata": {},
   "outputs": [
    {
     "name": "stdout",
     "output_type": "stream",
     "text": [
      "+---------------+------------+--------------------+--------+--------------+--------+-------------------+----+-----+-----------+----+----------+-----------+-----------+------------+--------------------+\n",
      "|INCIDENT_NUMBER|OFFENSE_CODE|  OFFENSE_CODE_GROUP|DISTRICT|REPORTING_AREA|SHOOTING|   OCCURRED_ON_DATE|YEAR|MONTH|DAY_OF_WEEK|HOUR|  UCR_PART|     STREET|        Lat|        Long|            Location|\n",
      "+---------------+------------+--------------------+--------+--------------+--------+-------------------+----+-----+-----------+----+----------+-----------+-----------+------------+--------------------+\n",
      "|     I182070945|         619|             Larceny|     D14|           808|       N|2018-09-02 13:00:00|2018|    9|     Sunday|  13|  Part One| LINCOLN ST|42.35779134|-71.13937053|(42.35779134, -71...|\n",
      "|     I182070943|        1402|           Vandalism|     C11|           347|       N|2018-08-21 00:00:00|2018|    8|    Tuesday|   0|  Part Two|   HECLA ST|42.30682138|-71.06030035|(42.30682138, -71...|\n",
      "|     I182070941|        3410|               Towed|      D4|           151|       N|2018-09-03 19:27:00|2018|    9|     Monday|  19|Part Three|CAZENOVE ST|42.34658879|-71.07242943|(42.34658879, -71...|\n",
      "|     I182070940|        3114|Investigate Property|      D4|           272|       N|2018-09-03 21:16:00|2018|    9|     Monday|  21|Part Three| NEWCOMB ST|42.33418175|-71.07866441|(42.33418175, -71...|\n",
      "|     I182070938|        3114|Investigate Property|      B3|           421|       N|2018-09-03 21:05:00|2018|    9|     Monday|  21|Part Three|   DELHI ST|42.27536542|-71.09036101|(42.27536542, -71...|\n",
      "+---------------+------------+--------------------+--------+--------------+--------+-------------------+----+-----+-----------+----+----------+-----------+-----------+------------+--------------------+\n",
      "only showing top 5 rows\n",
      "\n",
      "+----+--------------------+\n",
      "|CODE|                NAME|\n",
      "+----+--------------------+\n",
      "| 111|MURDER, NON-NEGLI...|\n",
      "| 112|KILLING OF FELON ...|\n",
      "| 113|KILLING OF FELON ...|\n",
      "| 114|KILLING OF POLICE...|\n",
      "| 121|MANSLAUGHTER - VE...|\n",
      "+----+--------------------+\n",
      "only showing top 5 rows\n",
      "\n"
     ]
    }
   ],
   "source": [
    "# for SHOOTING column replace null values with 'N'\n",
    "crimes_df = crimes_df.withColumn('SHOOTING', F.when(F.col('SHOOTING').isNull(), 'N')\\\n",
    "    .otherwise(F.col('SHOOTING')))\n",
    "\n",
    "# remove OFFENSE_DESCRIPTION column\n",
    "crimes_df = crimes_df.drop('OFFENSE_DESCRIPTION')\n",
    "crimes_df.show(5)\n",
    "\n",
    "# keep only first duplicate value in offence_code_df\n",
    "offense_codes_df = offense_codes_df.dropDuplicates(['CODE'])\n",
    "offense_codes_df.sort ('CODE').show(5)"
   ]
  },
  {
   "cell_type": "markdown",
   "metadata": {},
   "source": [
    "## 6. (window function) Partition by district , order by  year and then count the offenses including rolling count for each district"
   ]
  },
  {
   "cell_type": "code",
   "execution_count": 23,
   "metadata": {},
   "outputs": [
    {
     "name": "stdout",
     "output_type": "stream",
     "text": [
      "+--------+----+---------------+-----------------------+\n",
      "|DISTRICT|YEAR|count_incidents|rolling_count_incidents|\n",
      "+--------+----+---------------+-----------------------+\n",
      "|      A1|2015|           6015|                   6015|\n",
      "|      A1|2016|          10923|                  16938|\n",
      "|      A1|2017|          11375|                  28313|\n",
      "|      A1|2018|           7404|                  35717|\n",
      "|     A15|2015|           1027|                   1027|\n",
      "|     A15|2016|           1986|                   3013|\n",
      "|     A15|2017|           2167|                   5180|\n",
      "|     A15|2018|           1325|                   6505|\n",
      "|      A7|2015|           2426|                   2426|\n",
      "|      A7|2016|           4130|                   6556|\n",
      "|      A7|2017|           4264|                  10820|\n",
      "|      A7|2018|           2724|                  13544|\n",
      "|      B2|2015|           8687|                   8687|\n",
      "|      B2|2016|          15706|                  24393|\n",
      "|      B2|2017|          15680|                  40073|\n",
      "|      B2|2018|           9872|                  49945|\n",
      "|      B3|2015|           5617|                   5617|\n",
      "|      B3|2016|          11145|                  16762|\n",
      "|      B3|2017|          11195|                  27957|\n",
      "|      B3|2018|           7485|                  35442|\n",
      "+--------+----+---------------+-----------------------+\n",
      "only showing top 20 rows\n",
      "\n"
     ]
    }
   ],
   "source": [
    "## 6. (window function) Partition by district , order by  year and then rolling count the offenses\n",
    "\n",
    "window = Window.partitionBy('DISTRICT').orderBy('YEAR')\n",
    "\n",
    "window_df = crimes_df.filter(F.col('DISTRICT').isNotNull()) # remove null values\n",
    "\n",
    "window_df = window_df.groupBy('DISTRICT', 'YEAR').agg(F.count('INCIDENT_NUMBER').alias('count_incidents'))\n",
    "\n",
    "window_df = window_df.withColumn('rolling_count_incidents', F.sum('count_incidents').over(window))\n",
    "\n",
    "window_df.show()\n",
    "\n",
    "\n",
    "################### SAVE to POSTGRES #######################\n",
    "window_df.write.jdbc(url=URL, table='rolling_count', mode='overwrite', properties=Properties)\n",
    "\n"
   ]
  },
  {
   "cell_type": "markdown",
   "metadata": {},
   "source": [
    "## 7. Pivot incident years and count incident monthwise"
   ]
  },
  {
   "cell_type": "code",
   "execution_count": 24,
   "metadata": {},
   "outputs": [
    {
     "name": "stdout",
     "output_type": "stream",
     "text": [
      "+-----+----+----+----+----+\n",
      "|MONTH|2015|2016|2017|2018|\n",
      "+-----+----+----+----+----+\n",
      "|    1|null|7835|7993|7782|\n",
      "|    2|null|7308|7408|6937|\n",
      "|    3|null|8199|8179|7768|\n",
      "|    4|null|8101|8069|7916|\n",
      "|    5|null|8578|8715|8906|\n",
      "|    6|4191|8558|8985|8834|\n",
      "|    7|8324|8619|9075|8538|\n",
      "|    8|8342|8938|9206|8337|\n",
      "|    9|8414|8522|8940| 667|\n",
      "|   10|8308|8583|8846|null|\n",
      "|   11|7818|7922|7935|null|\n",
      "|   12|7991|7951|7535|null|\n",
      "+-----+----+----+----+----+\n",
      "\n"
     ]
    }
   ],
   "source": [
    "## 7. Pivot incident years and count incident monthwise\n",
    "\n",
    "pivot_df = crimes_df.groupBy('MONTH').pivot('YEAR').count().sort('MONTH')\n",
    "pivot_df.show()\n",
    "\n",
    "################### SAVE to POSTGRES #######################\n",
    "pivot_df.write.jdbc(url=URL, table='pivot_YEAR', mode='overwrite', properties=Properties)\n"
   ]
  },
  {
   "cell_type": "markdown",
   "metadata": {},
   "source": [
    "## 8. Count crimes involving any kind of Robbery in   each district"
   ]
  },
  {
   "cell_type": "code",
   "execution_count": 25,
   "metadata": {},
   "outputs": [
    {
     "name": "stdout",
     "output_type": "stream",
     "text": [
      "+--------+-------------+-----+\n",
      "|DISTRICT|District_Name|count|\n",
      "+--------+-------------+-----+\n",
      "|      A1|     Downtown|  659|\n",
      "|     A15|  Charlestown|   84|\n",
      "|      A7|  East Boston|  232|\n",
      "|      B2|      Roxbury|  860|\n",
      "|      B3|     Mattapan|  530|\n",
      "|     C11|   Dorchester|  660|\n",
      "|      C6| South Boston|  263|\n",
      "|     D14|     Brighton|  175|\n",
      "|      D4|    South End|  626|\n",
      "|     E13|Jamaica Plain|  250|\n",
      "|     E18|    Hyde Park|  170|\n",
      "|      E5| West Roxbury|   96|\n",
      "+--------+-------------+-----+\n",
      "\n"
     ]
    }
   ],
   "source": [
    "## 8. Count crimes involving any kind of \"Robbery\" in  each district name wise. district name is in police_district_codes_df\n",
    "\n",
    "robbery_df = crimes_df.filter(F.col('OFFENSE_CODE_GROUP')== 'Robbery')\n",
    "\n",
    "robbery_df = robbery_df.join(police_district_codes_df, robbery_df.DISTRICT == police_district_codes_df.District_Code, how='left')\n",
    "\n",
    "robbery_df = robbery_df.filter(F.col('DISTRICT').isNotNull()) # remove null values\n",
    "\n",
    "robbery_df = robbery_df.groupBy('DISTRICT', 'District_Name').count().sort('DISTRICT')\n",
    "\n",
    "robbery_df.show()\n",
    "\n",
    "################### SAVE to POSTGRES #######################\n",
    "robbery_df.write.jdbc(url=URL, table='robbery_in_each_district', mode='overwrite', properties=Properties)\n"
   ]
  },
  {
   "cell_type": "markdown",
   "metadata": {},
   "source": [
    "## 9. For each day, list the hour when the incident number is highest."
   ]
  },
  {
   "cell_type": "code",
   "execution_count": 26,
   "metadata": {},
   "outputs": [
    {
     "name": "stdout",
     "output_type": "stream",
     "text": [
      "+-----------+----+-----+\n",
      "|DAY_OF_WEEK|HOUR|count|\n",
      "+-----------+----+-----+\n",
      "|     Friday|  17| 3252|\n",
      "|     Monday|  17| 3254|\n",
      "|   Saturday|   0| 2612|\n",
      "|     Sunday|   0| 2400|\n",
      "|   Thursday|  18| 3033|\n",
      "|    Tuesday|  17| 3241|\n",
      "|  Wednesday|  17| 3153|\n",
      "+-----------+----+-----+\n",
      "\n"
     ]
    }
   ],
   "source": [
    "## 9. For each day, list the hour when the incident number is highest alonmg with the count of incidents\n",
    "\n",
    "incident_df = crimes_df.groupBy('DAY_OF_WEEK', 'HOUR').count().sort('DAY_OF_WEEK', 'HOUR')\n",
    "\n",
    "incident_df = incident_df.withColumn('max_incident', F.max('count').over(Window.partitionBy('DAY_OF_WEEK')))    \n",
    "\n",
    "incident_df = incident_df.filter(F.col('count') == F.col('max_incident')) \n",
    "\n",
    "incident_df = incident_df.drop('max_incident')\n",
    "\n",
    "incident_df.show()\n",
    "\n",
    "################### SAVE to POSTGRES #######################\n",
    "incident_df.write.jdbc(url=URL, table='Day_incident_hour', mode='overwrite', properties=Properties)\n"
   ]
  },
  {
   "cell_type": "markdown",
   "metadata": {},
   "source": [
    "## 10. List highest crime/offense group in each district (name) and the number of incidents"
   ]
  },
  {
   "cell_type": "code",
   "execution_count": 27,
   "metadata": {},
   "outputs": [
    {
     "name": "stdout",
     "output_type": "stream",
     "text": [
      "+--------+-------------+--------------------+-----+\n",
      "|DISTRICT|District_Name|  OFFENSE_CODE_GROUP|count|\n",
      "+--------+-------------+--------------------+-----+\n",
      "|      A1|     Downtown|             Larceny| 4704|\n",
      "|     A15|  Charlestown|Motor Vehicle Acc...|  960|\n",
      "|      A7|  East Boston|Motor Vehicle Acc...| 1516|\n",
      "|      B2|      Roxbury|Motor Vehicle Acc...| 6407|\n",
      "|      B3|     Mattapan|Motor Vehicle Acc...| 3836|\n",
      "|     C11|   Dorchester|Motor Vehicle Acc...| 5305|\n",
      "|      C6| South Boston|Motor Vehicle Acc...| 2699|\n",
      "|     D14|     Brighton|Motor Vehicle Acc...| 2857|\n",
      "|      D4|    South End|             Larceny| 7313|\n",
      "|     E13|Jamaica Plain|Motor Vehicle Acc...| 2166|\n",
      "|     E18|    Hyde Park|Motor Vehicle Acc...| 2366|\n",
      "|      E5| West Roxbury|Motor Vehicle Acc...| 1813|\n",
      "+--------+-------------+--------------------+-----+\n",
      "\n"
     ]
    }
   ],
   "source": [
    "## 10. List highest crime/offense group in each district (name) and the number of incidents\n",
    "\n",
    "district_crime_count = crimes_df.join(police_district_codes_df, crimes_df.DISTRICT == police_district_codes_df.District_Code, how='left')\n",
    "\n",
    "district_crime_count = district_crime_count.filter(F.col('DISTRICT').isNotNull()) # remove null values\n",
    "\n",
    "district_crime_count = district_crime_count.groupBy('DISTRICT', 'District_Name', 'OFFENSE_CODE_GROUP').count().sort('DISTRICT', 'count', ascending=False)\n",
    "\n",
    "district_crime_count = district_crime_count.dropDuplicates(['DISTRICT']) # keep only first duplicate value \n",
    "# as we sorted the dataframe in descending order of count column so first value will be highest\n",
    "\n",
    "district_crime_count.show()\n",
    "\n",
    "################### SAVE to POSTGRES #######################\n",
    "district_crime_count.write.jdbc(url=URL, table='highest_crime_in_each_district_with_count', mode='overwrite', properties=Properties)\n"
   ]
  },
  {
   "cell_type": "markdown",
   "metadata": {},
   "source": [
    "# Extra Question "
   ]
  },
  {
   "cell_type": "markdown",
   "metadata": {},
   "source": [
    "## 16. As each degreee of longitude is 100 km apart,  list crimes with counts (yearwsie)  within a 111km radius of BOSTON police headquater which is at 42.33397849555639, -71.09079628933894 (lat, long) "
   ]
  },
  {
   "cell_type": "code",
   "execution_count": 28,
   "metadata": {},
   "outputs": [
    {
     "name": "stdout",
     "output_type": "stream",
     "text": [
      "+--------------------+----+----+----+----+\n",
      "|  OFFENSE_CODE_GROUP|2015|2016|2017|2018|\n",
      "+--------------------+----+----+----+----+\n",
      "|  Aggravated Assault|1317|2177|2241|1532|\n",
      "|            Aircraft|   4|   4|  17|   5|\n",
      "|               Arson|  11|  33|  31|  16|\n",
      "|Assembly or Gathe...| 236| 313| 233| 130|\n",
      "|          Auto Theft| 934|1409|1316| 870|\n",
      "| Auto Theft Recovery| 129| 288| 346| 214|\n",
      "|          Ballistics| 159| 284| 327| 166|\n",
      "|   Biological Threat|null|null|   2|null|\n",
      "|           Bomb Hoax|  16|  36|  10|   9|\n",
      "|Burglary - No Pro...|   1|   1|null|null|\n",
      "| Commercial Burglary| 253| 427| 427| 219|\n",
      "|    Confidence Games| 650|1051| 867| 512|\n",
      "|      Counterfeiting| 271| 481| 452| 223|\n",
      "| Criminal Harassment|  42|  35|  28|  26|\n",
      "|  Disorderly Conduct| 451| 741| 788| 420|\n",
      "|      Drug Violation|3060|4651|4115|2770|\n",
      "|        Embezzlement|  61|  84| 108|  42|\n",
      "|        Evading Fare|  78| 124| 110|  77|\n",
      "|          Explosives|   6|   7|   5|   6|\n",
      "|Fire Related Reports| 300| 594| 573| 389|\n",
      "+--------------------+----+----+----+----+\n",
      "only showing top 20 rows\n",
      "\n"
     ]
    }
   ],
   "source": [
    "## 16. As each degreee of longitude is 111km apart,  list crimes with counts (yearwsie)  within a 100 km radius of BOSTON police headquater which is at 42.33397849555639, -71.09079628933894 (lat, long) \n",
    "\n",
    "#udf to calculate distance between two \n",
    "def degree_distance(lat1, long1, lat2, long2):\n",
    "    return 111 * F.sqrt(F.pow(lat1 - lat2, 2) + F.pow(long1 - long2, 2)) # return distance in km \n",
    "\n",
    "\n",
    "F.udf(degree_distance, FloatType())\n",
    "\n",
    "crimes_radius_111_df = crimes_df.withColumn('Distance_Apart', degree_distance(F.col('Lat'), F.col('Long'), 42.33397849555639, -71.09079628933894))\n",
    "\n",
    "crimes_radius_111_df = crimes_radius_111_df.filter(F.col('Distance_Apart') <= 111)\n",
    "\n",
    "crimes_radius_111_df=crimes_radius_111_df.groupBy('OFFENSE_CODE_GROUP').pivot('YEAR').count().sort('OFFENSE_CODE_GROUP')\n",
    "\n",
    "crimes_radius_111_df.show()\n",
    "\n",
    "\n",
    "################### SAVE to POSTGRES #######################\n",
    "crimes_radius_111_df.write.jdbc(url=URL, table='crimes_yearwise_in_111km_radius', mode='overwrite', properties=Properties)\n"
   ]
  },
  {
   "cell_type": "markdown",
   "metadata": {},
   "source": [
    "## 17.  List all crimes that occurred in all district (namewsie) and in the  August 2016"
   ]
  },
  {
   "cell_type": "code",
   "execution_count": 29,
   "metadata": {},
   "outputs": [
    {
     "name": "stdout",
     "output_type": "stream",
     "text": [
      "+-------------+--------------------+\n",
      "|District_Name|         CRIME_GROUP|\n",
      "+-------------+--------------------+\n",
      "|     Brighton|[Fraud, Auto Thef...|\n",
      "|  Charlestown|[Fraud, Auto Thef...|\n",
      "|   Dorchester|[Fraud, Auto Thef...|\n",
      "|     Downtown|[Fraud, Auto Thef...|\n",
      "|  East Boston|[Fraud, Auto Thef...|\n",
      "|    Hyde Park|[Fraud, Auto Thef...|\n",
      "|Jamaica Plain|[Fraud, Auto Thef...|\n",
      "|     Mattapan|[Fraud, Auto Thef...|\n",
      "|      Roxbury|[Fraud, Auto Thef...|\n",
      "| South Boston|[Fraud, Auto Thef...|\n",
      "|    South End|[Fraud, Auto Thef...|\n",
      "| West Roxbury|[Fraud, Auto Thef...|\n",
      "+-------------+--------------------+\n",
      "\n"
     ]
    }
   ],
   "source": [
    "## 17.  List all crimes that occurred in all district (namewsie) and in the  August 2016 \n",
    "\n",
    "crimes_august_2016_df = crimes_df.filter(F.col('YEAR') == 2016).filter(F.col('MONTH') == 8)\n",
    "\n",
    "crimes_august_2016_df = crimes_august_2016_df.join(police_district_codes_df, crimes_august_2016_df.DISTRICT == police_district_codes_df.District_Code, how='left')\n",
    "\n",
    "crimes_august_2016_df = crimes_august_2016_df.filter(F.col('DISTRICT').isNotNull()) # remove null values\n",
    "\n",
    "\n",
    "crimes_august_2016_df = crimes_august_2016_df.groupBy('District_Name').agg(F.collect_set('OFFENSE_CODE_GROUP').alias('CRIME_GROUP')).sort('DISTRICT_NAME')\n",
    "\n",
    "crimes_august_2016_df.show()\n",
    "\n",
    "################### SAVE to POSTGRES #######################\n",
    "crimes_august_2016_df.write.jdbc(url=URL, table='crime_group_in_all_districts_in_august_2016', mode='overwrite', properties=Properties)\n"
   ]
  },
  {
   "cell_type": "code",
   "execution_count": null,
   "metadata": {},
   "outputs": [],
   "source": []
  }
 ],
 "metadata": {
  "kernelspec": {
   "display_name": "Python 3.10.6 ('spark_project_env': venv)",
   "language": "python",
   "name": "python3"
  },
  "language_info": {
   "codemirror_mode": {
    "name": "ipython",
    "version": 3
   },
   "file_extension": ".py",
   "mimetype": "text/x-python",
   "name": "python",
   "nbconvert_exporter": "python",
   "pygments_lexer": "ipython3",
   "version": "3.10.6"
  },
  "orig_nbformat": 4,
  "vscode": {
   "interpreter": {
    "hash": "59c56a022bae3e6673f64e7513c309b6c71ec5c3972dcbf7b2ef6b0a8ca8eda9"
   }
  }
 },
 "nbformat": 4,
 "nbformat_minor": 2
}
