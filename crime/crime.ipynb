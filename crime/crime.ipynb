{
 "cells": [
  {
   "cell_type": "code",
   "execution_count": 1,
   "metadata": {},
   "outputs": [
    {
     "name": "stdout",
     "output_type": "stream",
     "text": [
      "Requirement already satisfied: asttokens==2.0.8 in /home/shijal/.local/lib/python3.8/site-packages (from -r test1.txt (line 1)) (2.0.8)\n",
      "Requirement already satisfied: autopep8==1.7.0 in /home/shijal/.local/lib/python3.8/site-packages (from -r test1.txt (line 2)) (1.7.0)\n",
      "Requirement already satisfied: backcall==0.2.0 in /home/shijal/.local/lib/python3.8/site-packages (from -r test1.txt (line 3)) (0.2.0)\n",
      "Requirement already satisfied: click==8.1.3 in /home/shijal/.local/lib/python3.8/site-packages (from -r test1.txt (line 4)) (8.1.3)\n",
      "Requirement already satisfied: debugpy==1.6.3 in /home/shijal/.local/lib/python3.8/site-packages (from -r test1.txt (line 5)) (1.6.3)\n",
      "Requirement already satisfied: decorator==5.1.1 in /home/shijal/.local/lib/python3.8/site-packages (from -r test1.txt (line 6)) (5.1.1)\n",
      "Requirement already satisfied: entrypoints==0.4 in /home/shijal/.local/lib/python3.8/site-packages (from -r test1.txt (line 7)) (0.4)\n",
      "Requirement already satisfied: executing==1.1.0 in /home/shijal/.local/lib/python3.8/site-packages (from -r test1.txt (line 8)) (1.1.0)\n",
      "Requirement already satisfied: ipykernel==6.16.0 in /home/shijal/.local/lib/python3.8/site-packages (from -r test1.txt (line 9)) (6.16.0)\n",
      "Requirement already satisfied: ipython==8.5.0 in /home/shijal/.local/lib/python3.8/site-packages (from -r test1.txt (line 10)) (8.5.0)\n",
      "Requirement already satisfied: jedi==0.18.1 in /home/shijal/.local/lib/python3.8/site-packages (from -r test1.txt (line 11)) (0.18.1)\n",
      "Requirement already satisfied: joblib==1.2.0 in /home/shijal/.local/lib/python3.8/site-packages (from -r test1.txt (line 12)) (1.2.0)\n",
      "Requirement already satisfied: jupyter-core==4.11.1 in /home/shijal/.local/lib/python3.8/site-packages (from -r test1.txt (line 13)) (4.11.1)\n",
      "Requirement already satisfied: jupyter_client==7.3.5 in /home/shijal/.local/lib/python3.8/site-packages (from -r test1.txt (line 14)) (7.3.5)\n",
      "Requirement already satisfied: matplotlib-inline==0.1.6 in /home/shijal/.local/lib/python3.8/site-packages (from -r test1.txt (line 15)) (0.1.6)\n",
      "Requirement already satisfied: nest-asyncio==1.5.6 in /home/shijal/.local/lib/python3.8/site-packages (from -r test1.txt (line 16)) (1.5.6)\n",
      "Requirement already satisfied: nltk==3.7 in /home/shijal/.local/lib/python3.8/site-packages (from -r test1.txt (line 17)) (3.7)\n",
      "Requirement already satisfied: numpy==1.23.3 in /home/shijal/.local/lib/python3.8/site-packages (from -r test1.txt (line 18)) (1.23.3)\n",
      "Requirement already satisfied: packaging==21.3 in /home/shijal/.local/lib/python3.8/site-packages (from -r test1.txt (line 19)) (21.3)\n",
      "Requirement already satisfied: pandas==1.5.1 in /home/shijal/.local/lib/python3.8/site-packages (from -r test1.txt (line 20)) (1.5.1)\n",
      "Requirement already satisfied: parso==0.8.3 in /home/shijal/.local/lib/python3.8/site-packages (from -r test1.txt (line 21)) (0.8.3)\n",
      "Requirement already satisfied: pexpect==4.8.0 in /home/shijal/.local/lib/python3.8/site-packages (from -r test1.txt (line 22)) (4.8.0)\n",
      "Requirement already satisfied: pickleshare==0.7.5 in /home/shijal/.local/lib/python3.8/site-packages (from -r test1.txt (line 23)) (0.7.5)\n",
      "Requirement already satisfied: prompt-toolkit==3.0.31 in /home/shijal/.local/lib/python3.8/site-packages (from -r test1.txt (line 24)) (3.0.31)\n",
      "Requirement already satisfied: psutil==5.9.2 in /home/shijal/.local/lib/python3.8/site-packages (from -r test1.txt (line 25)) (5.9.2)\n",
      "Requirement already satisfied: ptyprocess==0.7.0 in /home/shijal/.local/lib/python3.8/site-packages (from -r test1.txt (line 26)) (0.7.0)\n",
      "Requirement already satisfied: pure-eval==0.2.2 in /home/shijal/.local/lib/python3.8/site-packages (from -r test1.txt (line 27)) (0.2.2)\n",
      "Requirement already satisfied: py4j==0.10.9.5 in /home/shijal/.local/lib/python3.8/site-packages (from -r test1.txt (line 28)) (0.10.9.5)\n",
      "Requirement already satisfied: pycodestyle==2.9.1 in /home/shijal/.local/lib/python3.8/site-packages (from -r test1.txt (line 29)) (2.9.1)\n",
      "Requirement already satisfied: Pygments==2.13.0 in /home/shijal/.local/lib/python3.8/site-packages (from -r test1.txt (line 30)) (2.13.0)\n",
      "Requirement already satisfied: six in /usr/lib/python3/dist-packages (from asttokens==2.0.8->-r test1.txt (line 1)) (1.14.0)\n",
      "Requirement already satisfied: toml in /home/shijal/.local/lib/python3.8/site-packages (from autopep8==1.7.0->-r test1.txt (line 2)) (0.10.2)\n",
      "Requirement already satisfied: pyzmq>=17 in /home/shijal/.local/lib/python3.8/site-packages (from ipykernel==6.16.0->-r test1.txt (line 9)) (24.0.1)\n",
      "Requirement already satisfied: traitlets>=5.1.0 in /home/shijal/.local/lib/python3.8/site-packages (from ipykernel==6.16.0->-r test1.txt (line 9)) (5.5.0)\n",
      "Requirement already satisfied: tornado>=6.1 in /home/shijal/.local/lib/python3.8/site-packages (from ipykernel==6.16.0->-r test1.txt (line 9)) (6.2)\n",
      "Requirement already satisfied: stack-data in /home/shijal/.local/lib/python3.8/site-packages (from ipython==8.5.0->-r test1.txt (line 10)) (0.5.1)\n",
      "Requirement already satisfied: python-dateutil>=2.8.2 in /home/shijal/.local/lib/python3.8/site-packages (from jupyter_client==7.3.5->-r test1.txt (line 14)) (2.8.2)\n",
      "Requirement already satisfied: tqdm in /home/shijal/.local/lib/python3.8/site-packages (from nltk==3.7->-r test1.txt (line 17)) (4.64.1)\n",
      "Requirement already satisfied: regex>=2021.8.3 in /home/shijal/.local/lib/python3.8/site-packages (from nltk==3.7->-r test1.txt (line 17)) (2022.10.31)\n",
      "Requirement already satisfied: pyparsing!=3.0.5,>=2.0.2 in /home/shijal/.local/lib/python3.8/site-packages (from packaging==21.3->-r test1.txt (line 19)) (3.0.9)\n",
      "Requirement already satisfied: pytz>=2020.1 in /home/shijal/.local/lib/python3.8/site-packages (from pandas==1.5.1->-r test1.txt (line 20)) (2022.5)\n",
      "Requirement already satisfied: wcwidth in /home/shijal/.local/lib/python3.8/site-packages (from prompt-toolkit==3.0.31->-r test1.txt (line 24)) (0.2.5)\n"
     ]
    }
   ],
   "source": [
    "  ! pip install -r test1.txt"
   ]
  },
  {
   "cell_type": "code",
   "execution_count": 2,
   "metadata": {},
   "outputs": [
    {
     "name": "stdout",
     "output_type": "stream",
     "text": [
      "Defaulting to user installation because normal site-packages is not writeable\n",
      "Requirement already satisfied: pyspark in /home/shijal/.local/lib/python3.8/site-packages (3.3.0)\n",
      "Requirement already satisfied: py4j==0.10.9.5 in /home/shijal/.local/lib/python3.8/site-packages (from pyspark) (0.10.9.5)\n",
      "Note: you may need to restart the kernel to use updated packages.\n"
     ]
    }
   ],
   "source": [
    "pip install pyspark"
   ]
  },
  {
   "cell_type": "code",
   "execution_count": 3,
   "metadata": {},
   "outputs": [
    {
     "name": "stdout",
     "output_type": "stream",
     "text": [
      "22/11/03 17:35:29 WARN Utils: Your hostname, shijal-Lenovo-IdeaPad-S145-15IWL resolves to a loopback address: 127.0.1.1; using 192.168.101.12 instead (on interface wlp0s20f3)\n",
      "22/11/03 17:35:29 WARN Utils: Set SPARK_LOCAL_IP if you need to bind to another address\n"
     ]
    },
    {
     "name": "stderr",
     "output_type": "stream",
     "text": [
      "Setting default log level to \"WARN\".\n",
      "To adjust logging level use sc.setLogLevel(newLevel). For SparkR, use setLogLevel(newLevel).\n"
     ]
    },
    {
     "name": "stdout",
     "output_type": "stream",
     "text": [
      "22/11/03 17:35:29 WARN NativeCodeLoader: Unable to load native-hadoop library for your platform... using builtin-java classes where applicable\n",
      "22/11/03 17:35:30 WARN Utils: Service 'SparkUI' could not bind on port 4040. Attempting port 4041.\n"
     ]
    }
   ],
   "source": [
    "from pyspark.sql import SparkSession , functions as F\n",
    "\n",
    "spark = SparkSession.builder.appName('Crime')\\\n",
    "    .config('spark.driver.extraClassPath', '/usr/lib/jvm/java-11-openjdk-amd64/lib/postgresql-42.5.0.jar')\\\n",
    "    .getOrCreate()"
   ]
  },
  {
   "cell_type": "code",
   "execution_count": 4,
   "metadata": {},
   "outputs": [],
   "source": [
    "police_df=spark.read.csv('police_district_code.csv')"
   ]
  },
  {
   "cell_type": "code",
   "execution_count": 5,
   "metadata": {},
   "outputs": [
    {
     "name": "stdout",
     "output_type": "stream",
     "text": [
      "+-------------+-------------+\n",
      "|          _c0|          _c1|\n",
      "+-------------+-------------+\n",
      "|District_Code|District_Name|\n",
      "|           A1|     Downtown|\n",
      "|          A15|  Charlestown|\n",
      "|           A7|  East Boston|\n",
      "|           B2|      Roxbury|\n",
      "|           B3|     Mattapan|\n",
      "|           C6| South Boston|\n",
      "|          C11|   Dorchester|\n",
      "|           D4|    South End|\n",
      "|          D14|     Brighton|\n",
      "|           E5| West Roxbury|\n",
      "|          E13|Jamaica Plain|\n",
      "|          E18|    Hyde Park|\n",
      "+-------------+-------------+\n",
      "\n"
     ]
    }
   ],
   "source": [
    "police_df.show()"
   ]
  },
  {
   "cell_type": "code",
   "execution_count": 6,
   "metadata": {},
   "outputs": [],
   "source": [
    "Properties={'user': 'shijal', 'password': 'shijal@123'}\n",
    "URL='jdbc:postgresql://localhost:5432/postgres'"
   ]
  },
  {
   "cell_type": "code",
   "execution_count": 7,
   "metadata": {},
   "outputs": [],
   "source": [
    "police_df.write.jdbc(url=URL, table='police', mode='overwrite', properties=Properties)"
   ]
  },
  {
   "cell_type": "code",
   "execution_count": 9,
   "metadata": {},
   "outputs": [],
   "source": [
    "crime_df=spark.read.csv('crimes.csv')"
   ]
  },
  {
   "cell_type": "code",
   "execution_count": 11,
   "metadata": {},
   "outputs": [
    {
     "name": "stdout",
     "output_type": "stream",
     "text": [
      "+---------------+------------+--------------------+--------------------+--------+--------------+--------+-------------------+----+-----+-----------+----+----------+-----------------+-----------+------------+--------------------+\n",
      "|            _c0|         _c1|                 _c2|                 _c3|     _c4|           _c5|     _c6|                _c7| _c8|  _c9|       _c10|_c11|      _c12|             _c13|       _c14|        _c15|                _c16|\n",
      "+---------------+------------+--------------------+--------------------+--------+--------------+--------+-------------------+----+-----+-----------+----+----------+-----------------+-----------+------------+--------------------+\n",
      "|INCIDENT_NUMBER|OFFENSE_CODE|  OFFENSE_CODE_GROUP| OFFENSE_DESCRIPTION|DISTRICT|REPORTING_AREA|SHOOTING|   OCCURRED_ON_DATE|YEAR|MONTH|DAY_OF_WEEK|HOUR|  UCR_PART|           STREET|        Lat|        Long|            Location|\n",
      "|     I182070945|       00619|             Larceny|  LARCENY ALL OTHERS|     D14|           808|    null|2018-09-02 13:00:00|2018|    9|     Sunday|  13|  Part One|       LINCOLN ST|42.35779134|-71.13937053|(42.35779134, -71...|\n",
      "|     I182070943|       01402|           Vandalism|           VANDALISM|     C11|           347|    null|2018-08-21 00:00:00|2018|    8|    Tuesday|   0|  Part Two|         HECLA ST|42.30682138|-71.06030035|(42.30682138, -71...|\n",
      "|     I182070941|       03410|               Towed| TOWED MOTOR VEHICLE|      D4|           151|    null|2018-09-03 19:27:00|2018|    9|     Monday|  19|Part Three|      CAZENOVE ST|42.34658879|-71.07242943|(42.34658879, -71...|\n",
      "|     I182070940|       03114|Investigate Property|INVESTIGATE PROPERTY|      D4|           272|    null|2018-09-03 21:16:00|2018|    9|     Monday|  21|Part Three|       NEWCOMB ST|42.33418175|-71.07866441|(42.33418175, -71...|\n",
      "|     I182070938|       03114|Investigate Property|INVESTIGATE PROPERTY|      B3|           421|    null|2018-09-03 21:05:00|2018|    9|     Monday|  21|Part Three|         DELHI ST|42.27536542|-71.09036101|(42.27536542, -71...|\n",
      "|     I182070936|       03820|Motor Vehicle Acc...|M/V ACCIDENT INVO...|     C11|           398|    null|2018-09-03 21:09:00|2018|    9|     Monday|  21|Part Three|       TALBOT AVE|42.29019621|-71.07159012|(42.29019621, -71...|\n",
      "|     I182070933|       00724|          Auto Theft|          AUTO THEFT|      B2|           330|    null|2018-09-03 21:25:00|2018|    9|     Monday|  21|  Part One|      NORMANDY ST|42.30607218|-71.08273260|(42.30607218, -71...|\n",
      "|     I182070932|       03301|     Verbal Disputes|      VERBAL DISPUTE|      B2|           584|    null|2018-09-03 20:39:37|2018|    9|     Monday|  20|Part Three|          LAWN ST|42.32701648|-71.10555088|(42.32701648, -71...|\n",
      "|     I182070931|       00301|             Robbery|    ROBBERY - STREET|      C6|           177|    null|2018-09-03 20:48:00|2018|    9|     Monday|  20|  Part One|MASSACHUSETTS AVE|42.33152148|-71.07085307|(42.33152148, -71...|\n",
      "|     I182070929|       03301|     Verbal Disputes|      VERBAL DISPUTE|     C11|           364|    null|2018-09-03 20:38:00|2018|    9|     Monday|  20|Part Three|        LESLIE ST|42.29514664|-71.05860832|(42.29514664, -71...|\n",
      "|     I182070928|       03301|     Verbal Disputes|      VERBAL DISPUTE|      C6|           913|    null|2018-09-03 19:55:00|2018|    9|     Monday|  19|Part Three|    OCEAN VIEW DR|42.31957856|-71.04032766|(42.31957856, -71...|\n",
      "|     I182070927|       03114|Investigate Property|INVESTIGATE PROPERTY|      C6|           936|    null|2018-09-03 20:19:00|2018|    9|     Monday|  20|Part Three|      DALESSIO CT|42.34011469|-71.05339029|(42.34011469, -71...|\n",
      "|     I182070923|       03108|Fire Related Reports|FIRE REPORT - HOU...|      D4|           139|    null|2018-09-03 19:58:00|2018|    9|     Monday|  19|Part Three|   MARLBOROUGH ST|42.35038760|-71.08785290|(42.35038760, -71...|\n",
      "|     I182070922|       02647|               Other|THREATS TO DO BOD...|      B3|           429|    null|2018-09-03 20:39:00|2018|    9|     Monday|  20|  Part Two|      WOODROW AVE|42.28647012|-71.08714661|(42.28647012, -71...|\n",
      "|     I182070921|       03201|       Property Lost|     PROPERTY - LOST|      B3|           469|    null|2018-09-02 14:00:00|2018|    9|     Sunday|  14|Part Three|        MULVEY ST|42.27924052|-71.09667382|(42.27924052, -71...|\n",
      "|     I182070920|       03006|  Medical Assistance|SICK/INJURED/MEDI...|    null|              |    null|2018-09-03 19:43:00|2018|    9|     Monday|  19|Part Three|             null|42.35287456|-71.07382970|(42.35287456, -71...|\n",
      "|     I182070919|       03301|     Verbal Disputes|      VERBAL DISPUTE|     C11|           341|    null|2018-09-03 18:52:00|2018|    9|     Monday|  18|Part Three|    STONEHURST ST|42.30526428|-71.06683755|(42.30526428, -71...|\n",
      "|     I182070918|       03305|Assembly or Gathe...| DEMONSTRATIONS/RIOT|      D4|           130|    null|2018-09-03 17:00:00|2018|    9|     Monday|  17|Part Three|   HUNTINGTON AVE|42.34857652|-71.07772012|(42.34857652, -71...|\n",
      "|     I182070917|       02647|               Other|THREATS TO DO BOD...|      B2|           901|    null|2018-09-03 19:52:00|2018|    9|     Monday|  19|  Part Two|      HORADAN WAY|42.33371742|-71.09665806|(42.33371742, -71...|\n",
      "+---------------+------------+--------------------+--------------------+--------+--------------+--------+-------------------+----+-----+-----------+----+----------+-----------------+-----------+------------+--------------------+\n",
      "only showing top 20 rows\n",
      "\n"
     ]
    }
   ],
   "source": [
    "crime_df.show()"
   ]
  },
  {
   "cell_type": "code",
   "execution_count": 14,
   "metadata": {},
   "outputs": [],
   "source": [
    "crimes_df = spark.read.csv('/home/shijal/Desktop/Crime/crimes.csv', header=True, inferSchema=True)\n",
    "offense_codes_df = spark.read.csv('/home/shijal/Desktop/Crime/offense_codes.csv', header=True, inferSchema=True)\n",
    "police_district_codes_df = spark.read.csv('/home/shijal/Desktop/Crime/police_district_code.csv', header=True, inferSchema=True)"
   ]
  },
  {
   "cell_type": "code",
   "execution_count": 15,
   "metadata": {},
   "outputs": [
    {
     "name": "stdout",
     "output_type": "stream",
     "text": [
      "+---------------+------------+--------------------+--------+--------------+--------+-------------------+----+-----+-----------+----+----------+-----------+-----------+------------+--------------------+\n",
      "|INCIDENT_NUMBER|OFFENSE_CODE|  OFFENSE_CODE_GROUP|DISTRICT|REPORTING_AREA|SHOOTING|   OCCURRED_ON_DATE|YEAR|MONTH|DAY_OF_WEEK|HOUR|  UCR_PART|     STREET|        Lat|        Long|            Location|\n",
      "+---------------+------------+--------------------+--------+--------------+--------+-------------------+----+-----+-----------+----+----------+-----------+-----------+------------+--------------------+\n",
      "|     I182070945|         619|             Larceny|     D14|           808|       N|2018-09-02 13:00:00|2018|    9|     Sunday|  13|  Part One| LINCOLN ST|42.35779134|-71.13937053|(42.35779134, -71...|\n",
      "|     I182070943|        1402|           Vandalism|     C11|           347|       N|2018-08-21 00:00:00|2018|    8|    Tuesday|   0|  Part Two|   HECLA ST|42.30682138|-71.06030035|(42.30682138, -71...|\n",
      "|     I182070941|        3410|               Towed|      D4|           151|       N|2018-09-03 19:27:00|2018|    9|     Monday|  19|Part Three|CAZENOVE ST|42.34658879|-71.07242943|(42.34658879, -71...|\n",
      "|     I182070940|        3114|Investigate Property|      D4|           272|       N|2018-09-03 21:16:00|2018|    9|     Monday|  21|Part Three| NEWCOMB ST|42.33418175|-71.07866441|(42.33418175, -71...|\n",
      "|     I182070938|        3114|Investigate Property|      B3|           421|       N|2018-09-03 21:05:00|2018|    9|     Monday|  21|Part Three|   DELHI ST|42.27536542|-71.09036101|(42.27536542, -71...|\n",
      "+---------------+------------+--------------------+--------+--------------+--------+-------------------+----+-----+-----------+----+----------+-----------+-----------+------------+--------------------+\n",
      "only showing top 5 rows\n",
      "\n",
      "+----+--------------------+\n",
      "|CODE|                NAME|\n",
      "+----+--------------------+\n",
      "| 111|MURDER, NON-NEGLI...|\n",
      "| 112|KILLING OF FELON ...|\n",
      "| 113|KILLING OF FELON ...|\n",
      "| 114|KILLING OF POLICE...|\n",
      "| 121|MANSLAUGHTER - VE...|\n",
      "+----+--------------------+\n",
      "only showing top 5 rows\n",
      "\n"
     ]
    }
   ],
   "source": [
    "# for SHOOTING column replace null values with 'N'\n",
    "crimes_df = crimes_df.withColumn('SHOOTING', F.when(F.col('SHOOTING').isNull(), 'N')\\\n",
    "    .otherwise(F.col('SHOOTING')))\n",
    "\n",
    "# remove OFFENSE_DESCRIPTION column\n",
    "crimes_df = crimes_df.drop('OFFENSE_DESCRIPTION')\n",
    "crimes_df.show(5)\n",
    "\n",
    "# keep only first duplicate value in offence_code_df\n",
    "offense_codes_df = offense_codes_df.dropDuplicates(['CODE'])\n",
    "offense_codes_df.sort ('CODE').show(5)"
   ]
  },
  {
   "cell_type": "markdown",
   "metadata": {},
   "source": [
    "11. Find the average number of crime happened  for each year."
   ]
  },
  {
   "cell_type": "code",
   "execution_count": 60,
   "metadata": {},
   "outputs": [
    {
     "name": "stdout",
     "output_type": "stream",
     "text": [
      "+----+------+\n",
      "|Year| count|\n",
      "+----+------+\n",
      "|2018| 65685|\n",
      "|2015| 53388|\n",
      "|2016| 99114|\n",
      "|2017|100886|\n",
      "+----+------+\n",
      "\n"
     ]
    },
    {
     "name": "stderr",
     "output_type": "stream",
     "text": [
      "                                                                                \r"
     ]
    }
   ],
   "source": [
    "crimes_df.groupBy(\"Year\").count().show()\n",
    "################### SAVE to POSTGRES #######################\n",
    "crimes_df.write.jdbc(url=URL, table='YEAR', mode='overwrite', properties=Properties)\n"
   ]
  },
  {
   "cell_type": "markdown",
   "metadata": {},
   "source": [
    "12. How many crimes were committed in 2018."
   ]
  },
  {
   "cell_type": "code",
   "execution_count": 50,
   "metadata": {},
   "outputs": [
    {
     "name": "stdout",
     "output_type": "stream",
     "text": [
      "Total crimes committed in 2018 is: 65685\n"
     ]
    },
    {
     "name": "stderr",
     "output_type": "stream",
     "text": [
      "                                                                                \r"
     ]
    }
   ],
   "source": [
    "total_2018 = crimes_df.where((crimes_df.YEAR==2018)).count()\n",
    "print(\"Total crimes committed in 2018 is:\",total_2018)\n",
    "################### SAVE to POSTGRES #######################\n",
    "crimes_df.write.jdbc(url=URL, table='YEAR', mode='overwrite', properties=Properties)"
   ]
  },
  {
   "cell_type": "markdown",
   "metadata": {},
   "source": [
    "13. Find how many times ‘Auto Theft’ happened in each year."
   ]
  },
  {
   "cell_type": "code",
   "execution_count": 86,
   "metadata": {},
   "outputs": [
    {
     "name": "stdout",
     "output_type": "stream",
     "text": [
      "+----+------------------------+\n",
      "|YEAR|Total Auto Theft in Year|\n",
      "+----+------------------------+\n",
      "|2015|                     988|\n",
      "|2016|                    1537|\n",
      "|2017|                    1393|\n",
      "|2018|                     933|\n",
      "+----+------------------------+\n",
      "\n"
     ]
    },
    {
     "name": "stderr",
     "output_type": "stream",
     "text": [
      "                                                                                \r"
     ]
    }
   ],
   "source": [
    "filtering_autotheft = crimes_df.filter((crimes_df.OFFENSE_CODE_GROUP==\"Auto Theft\")).select(crimes_df.YEAR,crimes_df.OFFENSE_CODE_GROUP)\n",
    "total_autotheft = filtering_autotheft.groupBy(\"YEAR\").count().orderBy(\"Year\").withColumnRenamed(\"count\",\"Total Auto Theft in Year\")\n",
    "total_autotheft.show()\n",
    "################### SAVE to POSTGRES #######################\n",
    "crimes_df.write.jdbc(url=URL, table='YEAR', mode='overwrite', properties=Properties)"
   ]
  },
  {
   "cell_type": "markdown",
   "metadata": {},
   "source": [
    "14. Reporting Area having highest Shooting incident. "
   ]
  },
  {
   "cell_type": "code",
   "execution_count": 53,
   "metadata": {},
   "outputs": [
    {
     "name": "stdout",
     "output_type": "stream",
     "text": [
      "+--------+------+\n",
      "|Shooting| count|\n",
      "+--------+------+\n",
      "|       Y|  1019|\n",
      "|       N|318054|\n",
      "+--------+------+\n",
      "\n"
     ]
    }
   ],
   "source": [
    "crimes_df.groupBy(\"Shooting\").count().show()"
   ]
  },
  {
   "cell_type": "markdown",
   "metadata": {},
   "source": [
    "15. Arrange street based on high “Rape” incident"
   ]
  },
  {
   "cell_type": "code",
   "execution_count": null,
   "metadata": {},
   "outputs": [],
   "source": []
  }
 ],
 "metadata": {
  "kernelspec": {
   "display_name": "Python 3.8.10 64-bit",
   "language": "python",
   "name": "python3"
  },
  "language_info": {
   "codemirror_mode": {
    "name": "ipython",
    "version": 3
   },
   "file_extension": ".py",
   "mimetype": "text/x-python",
   "name": "python",
   "nbconvert_exporter": "python",
   "pygments_lexer": "ipython3",
   "version": "3.8.10"
  },
  "orig_nbformat": 4,
  "vscode": {
   "interpreter": {
    "hash": "916dbcbb3f70747c44a77c7bcd40155683ae19c65e1c03b4aa3499c5328201f1"
   }
  }
 },
 "nbformat": 4,
 "nbformat_minor": 2
}
