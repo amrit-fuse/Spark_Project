{
 "cells": [
  {
   "cell_type": "code",
   "execution_count": 22,
   "id": "1f70ae87-8b1b-4b0a-8853-62deb7e9f1b2",
   "metadata": {},
   "outputs": [],
   "source": [
    "from pyspark.sql import SparkSession, functions as F\n",
    "from pyspark.sql.functions import udf,col,countDistinct,date_format,row_number\n",
    "from pyspark.sql.window import Window"
   ]
  },
  {
   "cell_type": "code",
   "execution_count": 50,
   "id": "48f07dd9-e51b-48a6-b2b2-0b33d0e63441",
   "metadata": {},
   "outputs": [
    {
     "name": "stderr",
     "output_type": "stream",
     "text": [
      "                                                                                \r"
     ]
    },
    {
     "name": "stdout",
     "output_type": "stream",
     "text": [
      "+---------------+------------+--------------------+--------------------+--------+--------------+--------+-------------------+----+-----+-----------+----+----------+-----------------+-----------+------------+--------------------+\n",
      "|INCIDENT_NUMBER|OFFENSE_CODE|  OFFENSE_CODE_GROUP| OFFENSE_DESCRIPTION|DISTRICT|REPORTING_AREA|SHOOTING|   OCCURRED_ON_DATE|YEAR|MONTH|DAY_OF_WEEK|HOUR|  UCR_PART|           STREET|        Lat|        Long|            Location|\n",
      "+---------------+------------+--------------------+--------------------+--------+--------------+--------+-------------------+----+-----+-----------+----+----------+-----------------+-----------+------------+--------------------+\n",
      "|     I182070945|         619|             Larceny|  LARCENY ALL OTHERS|     D14|           808|    null|2018-09-02 13:00:00|2018|    9|     Sunday|  13|  Part One|       LINCOLN ST|42.35779134|-71.13937053|(42.35779134, -71...|\n",
      "|     I182070943|        1402|           Vandalism|           VANDALISM|     C11|           347|    null|2018-08-21 00:00:00|2018|    8|    Tuesday|   0|  Part Two|         HECLA ST|42.30682138|-71.06030035|(42.30682138, -71...|\n",
      "|     I182070941|        3410|               Towed| TOWED MOTOR VEHICLE|      D4|           151|    null|2018-09-03 19:27:00|2018|    9|     Monday|  19|Part Three|      CAZENOVE ST|42.34658879|-71.07242943|(42.34658879, -71...|\n",
      "|     I182070940|        3114|Investigate Property|INVESTIGATE PROPERTY|      D4|           272|    null|2018-09-03 21:16:00|2018|    9|     Monday|  21|Part Three|       NEWCOMB ST|42.33418175|-71.07866441|(42.33418175, -71...|\n",
      "|     I182070938|        3114|Investigate Property|INVESTIGATE PROPERTY|      B3|           421|    null|2018-09-03 21:05:00|2018|    9|     Monday|  21|Part Three|         DELHI ST|42.27536542|-71.09036101|(42.27536542, -71...|\n",
      "|     I182070936|        3820|Motor Vehicle Acc...|M/V ACCIDENT INVO...|     C11|           398|    null|2018-09-03 21:09:00|2018|    9|     Monday|  21|Part Three|       TALBOT AVE|42.29019621|-71.07159012|(42.29019621, -71...|\n",
      "|     I182070933|         724|          Auto Theft|          AUTO THEFT|      B2|           330|    null|2018-09-03 21:25:00|2018|    9|     Monday|  21|  Part One|      NORMANDY ST|42.30607218| -71.0827326|(42.30607218, -71...|\n",
      "|     I182070932|        3301|     Verbal Disputes|      VERBAL DISPUTE|      B2|           584|    null|2018-09-03 20:39:37|2018|    9|     Monday|  20|Part Three|          LAWN ST|42.32701648|-71.10555088|(42.32701648, -71...|\n",
      "|     I182070931|         301|             Robbery|    ROBBERY - STREET|      C6|           177|    null|2018-09-03 20:48:00|2018|    9|     Monday|  20|  Part One|MASSACHUSETTS AVE|42.33152148|-71.07085307|(42.33152148, -71...|\n",
      "|     I182070929|        3301|     Verbal Disputes|      VERBAL DISPUTE|     C11|           364|    null|2018-09-03 20:38:00|2018|    9|     Monday|  20|Part Three|        LESLIE ST|42.29514664|-71.05860832|(42.29514664, -71...|\n",
      "|     I182070928|        3301|     Verbal Disputes|      VERBAL DISPUTE|      C6|           913|    null|2018-09-03 19:55:00|2018|    9|     Monday|  19|Part Three|    OCEAN VIEW DR|42.31957856|-71.04032766|(42.31957856, -71...|\n",
      "|     I182070927|        3114|Investigate Property|INVESTIGATE PROPERTY|      C6|           936|    null|2018-09-03 20:19:00|2018|    9|     Monday|  20|Part Three|      DALESSIO CT|42.34011469|-71.05339029|(42.34011469, -71...|\n",
      "|     I182070923|        3108|Fire Related Reports|FIRE REPORT - HOU...|      D4|           139|    null|2018-09-03 19:58:00|2018|    9|     Monday|  19|Part Three|   MARLBOROUGH ST| 42.3503876| -71.0878529|(42.35038760, -71...|\n",
      "|     I182070922|        2647|               Other|THREATS TO DO BOD...|      B3|           429|    null|2018-09-03 20:39:00|2018|    9|     Monday|  20|  Part Two|      WOODROW AVE|42.28647012|-71.08714661|(42.28647012, -71...|\n",
      "|     I182070921|        3201|       Property Lost|     PROPERTY - LOST|      B3|           469|    null|2018-09-02 14:00:00|2018|    9|     Sunday|  14|Part Three|        MULVEY ST|42.27924052|-71.09667382|(42.27924052, -71...|\n",
      "|     I182070920|        3006|  Medical Assistance|SICK/INJURED/MEDI...|    null|              |    null|2018-09-03 19:43:00|2018|    9|     Monday|  19|Part Three|             null|42.35287456| -71.0738297|(42.35287456, -71...|\n",
      "|     I182070919|        3301|     Verbal Disputes|      VERBAL DISPUTE|     C11|           341|    null|2018-09-03 18:52:00|2018|    9|     Monday|  18|Part Three|    STONEHURST ST|42.30526428|-71.06683755|(42.30526428, -71...|\n",
      "|     I182070918|        3305|Assembly or Gathe...| DEMONSTRATIONS/RIOT|      D4|           130|    null|2018-09-03 17:00:00|2018|    9|     Monday|  17|Part Three|   HUNTINGTON AVE|42.34857652|-71.07772012|(42.34857652, -71...|\n",
      "|     I182070917|        2647|               Other|THREATS TO DO BOD...|      B2|           901|    null|2018-09-03 19:52:00|2018|    9|     Monday|  19|  Part Two|      HORADAN WAY|42.33371742|-71.09665806|(42.33371742, -71...|\n",
      "|     I182070915|         614|Larceny From Moto...|LARCENY THEFT FRO...|      B2|           181|    null|2018-09-02 18:00:00|2018|    9|     Sunday|  18|  Part One|       SHIRLEY ST| 42.3256949|-71.06816778|(42.32569490, -71...|\n",
      "+---------------+------------+--------------------+--------------------+--------+--------------+--------+-------------------+----+-----+-----------+----+----------+-----------------+-----------+------------+--------------------+\n",
      "only showing top 20 rows\n",
      "\n"
     ]
    }
   ],
   "source": [
    "spark = SparkSession.builder.appName(\"crime_boston\").getOrCreate()\n",
    "\n",
    "crime_df = spark.read.csv(\"/home/saurav/Downloads/crime.csv\",header=True,inferSchema=True)\n",
    "\n",
    "crime_df.show()"
   ]
  },
  {
   "cell_type": "markdown",
   "id": "d87fb63e-6d58-4748-aff0-8cca4f0a919b",
   "metadata": {},
   "source": [
    "## 1. Find all the list of dates in 2017 where ‘VANDALISM’ happened."
   ]
  },
  {
   "cell_type": "code",
   "execution_count": 61,
   "id": "f3896393-feb9-43df-93c6-8ad24ac48cd1",
   "metadata": {},
   "outputs": [
    {
     "name": "stdout",
     "output_type": "stream",
     "text": [
      "+-------------------+-------------------+\n",
      "|   OCCURRED_ON_DATE|OFFENSE_DESCRIPTION|\n",
      "+-------------------+-------------------+\n",
      "|2018-08-21 00:00:00|          VANDALISM|\n",
      "|2018-09-01 12:00:00|          VANDALISM|\n",
      "|2018-09-03 15:00:00|          VANDALISM|\n",
      "|2018-08-31 17:00:00|          VANDALISM|\n",
      "|2018-09-03 13:44:00|          VANDALISM|\n",
      "|2018-08-17 12:10:00|          VANDALISM|\n",
      "|2018-09-03 05:30:00|          VANDALISM|\n",
      "|2018-09-03 07:44:00|          VANDALISM|\n",
      "|2018-08-31 07:00:00|          VANDALISM|\n",
      "|2018-09-02 23:20:00|          VANDALISM|\n",
      "|2018-09-02 21:57:00|          VANDALISM|\n",
      "|2018-09-02 20:08:00|          VANDALISM|\n",
      "|2018-09-02 18:58:00|          VANDALISM|\n",
      "|2018-09-02 17:15:00|          VANDALISM|\n",
      "|2018-09-02 16:58:00|          VANDALISM|\n",
      "|2018-09-01 14:30:00|          VANDALISM|\n",
      "|2018-09-02 17:12:00|          VANDALISM|\n",
      "|2018-09-01 23:00:00|          VANDALISM|\n",
      "|2018-07-30 12:51:00|          VANDALISM|\n",
      "|2018-09-02 09:26:00|          VANDALISM|\n",
      "+-------------------+-------------------+\n",
      "only showing top 20 rows\n",
      "\n"
     ]
    }
   ],
   "source": [
    "vandalism_2017 = crime_df.filter(crime_df['OFFENSE_DESCRIPTION']=='VANDALISM').select(crime_df['OCCURRED_ON_DATE'],crime_df['OFFENSE_DESCRIPTION'])\n",
    "vandalism_2017.show()\n",
    "\n",
    "#saving O/P in postgres\n",
    "vandalism_2017.write.format('jdbc').options(url='jdbc:postgresql://localhost:5432/postgres', driver='org.postgresql.Driver',\n",
    "                                   dbtable='Q1', user='fusemachines', password='hello123').mode('overwrite').save()"
   ]
  },
  {
   "cell_type": "markdown",
   "id": "660282fc-99bf-41a7-adaa-bbfbb5e7afe1",
   "metadata": {},
   "source": [
    "## 2.Show the data frame where the District is  null and then fill the null District with “District not Verified”. (udf) "
   ]
  },
  {
   "cell_type": "code",
   "execution_count": 62,
   "id": "5637e325-df58-4f86-8e86-757de216a53b",
   "metadata": {},
   "outputs": [
    {
     "name": "stdout",
     "output_type": "stream",
     "text": [
      "+---------------+------------+--------------------+--------------------+--------+--------------+--------+-------------------+----+-----+-----------+----+----------+-------+-----------+------------+--------------------+\n",
      "|INCIDENT_NUMBER|OFFENSE_CODE|  OFFENSE_CODE_GROUP| OFFENSE_DESCRIPTION|DISTRICT|REPORTING_AREA|SHOOTING|   OCCURRED_ON_DATE|YEAR|MONTH|DAY_OF_WEEK|HOUR|  UCR_PART| STREET|        Lat|        Long|            Location|\n",
      "+---------------+------------+--------------------+--------------------+--------+--------------+--------+-------------------+----+-----+-----------+----+----------+-------+-----------+------------+--------------------+\n",
      "|     I182070920|        3006|  Medical Assistance|SICK/INJURED/MEDI...|    null|              |    null|2018-09-03 19:43:00|2018|    9|     Monday|  19|Part Three|   null|42.35287456| -71.0738297|(42.35287456, -71...|\n",
      "|     I182070913|        3006|  Medical Assistance|SICK/INJURED/MEDI...|    null|              |    null|2018-09-03 18:46:00|2018|    9|     Monday|  18|Part Three|WOLCOTT|       -1.0|        -1.0|(-1.00000000, -1....|\n",
      "|     I182070906|        3831|Motor Vehicle Acc...|M/V - LEAVING SCE...|    null|              |    null|2018-09-03 18:20:00|2018|    9|     Monday|  18|Part Three|   null|42.28359328|-71.05565683|(42.28359328, -71...|\n",
      "|     I182070889|        1843|      Drug Violation|DRUGS - POSS CLAS...|    null|              |    null|2018-09-03 18:05:00|2018|    9|     Monday|  18|  Part Two|   null|42.30676881|-71.08431925|(42.30676881, -71...|\n",
      "|     I182070889|        3125|     Warrant Arrests|      WARRANT ARREST|    null|              |    null|2018-09-03 18:05:00|2018|    9|     Monday|  18|Part Three|   null|42.30676881|-71.08431925|(42.30676881, -71...|\n",
      "|     I182070889|        1841|      Drug Violation|DRUGS - POSS CLAS...|    null|              |    null|2018-09-03 18:05:00|2018|    9|     Monday|  18|  Part Two|   null|42.30676881|-71.08431925|(42.30676881, -71...|\n",
      "|     I182070866|        3807|Motor Vehicle Acc...|M/V ACCIDENT - OT...|    null|              |    null|2018-09-03 16:09:10|2018|    9|     Monday|  16|Part Three|   null|42.28768807|-71.09386923|(42.28768807, -71...|\n",
      "|     I182070865|         301|             Robbery|    ROBBERY - STREET|    null|              |    null|2018-09-03 15:54:00|2018|    9|     Monday|  15|  Part One|   null|42.31580852|-71.09829029|(42.31580852, -71...|\n",
      "|     I182070839|        3820|Motor Vehicle Acc...|M/V ACCIDENT INVO...|    null|              |    null|2018-09-03 14:21:00|2018|    9|     Monday|  14|Part Three|   null|42.34320836| -71.0785066|(42.34320836, -71...|\n",
      "|     I182070836|        3803|Motor Vehicle Acc...|M/V ACCIDENT - PE...|    null|              |    null|2018-09-03 14:02:00|2018|    9|     Monday|  14|Part Three|   null|42.33892088|-71.10725211|(42.33892088, -71...|\n",
      "|     I182070820|        1806|      Drug Violation|DRUGS - CLASS B T...|    null|              |    null|2018-09-03 13:18:00|2018|    9|     Monday|  13|  Part Two|   null|42.31224532|-71.07317861|(42.31224532, -71...|\n",
      "|     I182070799|        3410|               Towed| TOWED MOTOR VEHICLE|    null|              |    null|2018-09-03 11:55:00|2018|    9|     Monday|  11|Part Three|CHELSEA|       -1.0|        -1.0|(-1.00000000, -1....|\n",
      "|     I182070724|        3801|Motor Vehicle Acc...|M/V ACCIDENT - OTHER|    null|              |    null|2018-09-03 02:06:00|2018|    9|     Monday|   2|Part Three|   null|42.30340674|-71.08526661|(42.30340674, -71...|\n",
      "|     I182070718|         802|      Simple Assault|ASSAULT SIMPLE - ...|    null|              |    null|2018-09-03 01:02:00|2018|    9|     Monday|   1|  Part Two|   null|42.33893316|-71.08114319|(42.33893316, -71...|\n",
      "|     I182070677|        2905|          Violations|VAL - OPERATING W...|    null|              |    null|2018-09-02 22:00:00|2018|    9|     Sunday|  22|  Part Two|   null|42.31138549|-71.08113966|(42.31138549, -71...|\n",
      "|     I182070677|        3802|Motor Vehicle Acc...|M/V ACCIDENT - PR...|    null|              |    null|2018-09-02 22:00:00|2018|    9|     Sunday|  22|Part Three|   null|42.31138549|-71.08113966|(42.31138549, -71...|\n",
      "|     I182070673|        3803|Motor Vehicle Acc...|M/V ACCIDENT - PE...|    null|              |    null|2018-09-02 21:51:00|2018|    9|     Sunday|  21|Part Three|   null|42.31022711|-71.07233091|(42.31022711, -71...|\n",
      "|     I182070646|        3116|Harbor Related In...|HARBOR INCIDENT /...|    null|              |    null|2018-09-02 19:12:00|2018|    9|     Sunday|  19|Part Three|  ROWES|       -1.0|        -1.0|(-1.00000000, -1....|\n",
      "|     I182070630|        3831|Motor Vehicle Acc...|M/V - LEAVING SCE...|    null|              |    null|2018-09-01 20:30:00|2018|    9|   Saturday|  20|Part Three|   null|42.27882254|-71.06951915|(42.27882254, -71...|\n",
      "|     I182070624|        2405|  Disorderly Conduct|  DISORDERLY CONDUCT|    null|              |    null|2018-09-02 18:38:00|2018|    9|     Sunday|  18|  Part Two|   null|42.35626508|-71.06226479|(42.35626508, -71...|\n",
      "+---------------+------------+--------------------+--------------------+--------+--------------+--------+-------------------+----+-----+-----------+----+----------+-------+-----------+------------+--------------------+\n",
      "only showing top 20 rows\n",
      "\n",
      "+---------------+------------+--------------------+--------------------+--------------------+\n",
      "|INCIDENT_NUMBER|OFFENSE_CODE|  OFFENSE_CODE_GROUP| OFFENSE_DESCRIPTION|            DISTRICT|\n",
      "+---------------+------------+--------------------+--------------------+--------------------+\n",
      "|     I182070920|        3006|  Medical Assistance|SICK/INJURED/MEDI...|District Not Verifed|\n",
      "|     I182070913|        3006|  Medical Assistance|SICK/INJURED/MEDI...|District Not Verifed|\n",
      "|     I182070906|        3831|Motor Vehicle Acc...|M/V - LEAVING SCE...|District Not Verifed|\n",
      "|     I182070889|        1843|      Drug Violation|DRUGS - POSS CLAS...|District Not Verifed|\n",
      "|     I182070889|        3125|     Warrant Arrests|      WARRANT ARREST|District Not Verifed|\n",
      "|     I182070889|        1841|      Drug Violation|DRUGS - POSS CLAS...|District Not Verifed|\n",
      "|     I182070866|        3807|Motor Vehicle Acc...|M/V ACCIDENT - OT...|District Not Verifed|\n",
      "|     I182070865|         301|             Robbery|    ROBBERY - STREET|District Not Verifed|\n",
      "|     I182070839|        3820|Motor Vehicle Acc...|M/V ACCIDENT INVO...|District Not Verifed|\n",
      "|     I182070836|        3803|Motor Vehicle Acc...|M/V ACCIDENT - PE...|District Not Verifed|\n",
      "|     I182070820|        1806|      Drug Violation|DRUGS - CLASS B T...|District Not Verifed|\n",
      "|     I182070799|        3410|               Towed| TOWED MOTOR VEHICLE|District Not Verifed|\n",
      "|     I182070724|        3801|Motor Vehicle Acc...|M/V ACCIDENT - OTHER|District Not Verifed|\n",
      "|     I182070718|         802|      Simple Assault|ASSAULT SIMPLE - ...|District Not Verifed|\n",
      "|     I182070677|        2905|          Violations|VAL - OPERATING W...|District Not Verifed|\n",
      "|     I182070677|        3802|Motor Vehicle Acc...|M/V ACCIDENT - PR...|District Not Verifed|\n",
      "|     I182070673|        3803|Motor Vehicle Acc...|M/V ACCIDENT - PE...|District Not Verifed|\n",
      "|     I182070646|        3116|Harbor Related In...|HARBOR INCIDENT /...|District Not Verifed|\n",
      "|     I182070630|        3831|Motor Vehicle Acc...|M/V - LEAVING SCE...|District Not Verifed|\n",
      "|     I182070624|        2405|  Disorderly Conduct|  DISORDERLY CONDUCT|District Not Verifed|\n",
      "+---------------+------------+--------------------+--------------------+--------------------+\n",
      "only showing top 20 rows\n",
      "\n"
     ]
    }
   ],
   "source": [
    "def remove_na(replacenull):\n",
    "    return \"District Not Verifed\"\n",
    "udf_name = udf(remove_na)\n",
    "\n",
    "null_district = crime_df.filter(crime_df['DISTRICT'].isNull())\n",
    "null_district.show()\n",
    "\n",
    "fill_na = null_district.select(crime_df['INCIDENT_NUMBER'],crime_df['OFFENSE_CODE'],crime_df['OFFENSE_CODE_GROUP'],crime_df['OFFENSE_DESCRIPTION'],udf_name(null_district['DISTRICT']))\\\n",
    ".withColumnRenamed('remove_na(DISTRICT)','DISTRICT')\n",
    "\n",
    "fill_na.show()\n",
    "\n",
    "# *******ALTERNATIVE**********\n",
    "# null_district.na.fill('District not verified',subset=['DISTRICT']).show()\n",
    "\n",
    "# Saving O/P in Postgres\n",
    "fill_na.write.format('jdbc').options(url='jdbc:postgresql://localhost:5432/postgres', driver='org.postgresql.Driver',\n",
    "                                   dbtable='Q2', user='fusemachines', password='hello123').mode('overwrite').save()"
   ]
  },
  {
   "cell_type": "markdown",
   "id": "c29384e0-cdff-4127-b624-7ac1459cd678",
   "metadata": {},
   "source": [
    "## 3.Show the year and total number of Robbery happens in each year."
   ]
  },
  {
   "cell_type": "code",
   "execution_count": 64,
   "id": "f164b402-d6cc-4117-842f-03afde12d4da",
   "metadata": {},
   "outputs": [
    {
     "name": "stdout",
     "output_type": "stream",
     "text": [
      "+----+---------------------+\n",
      "|YEAR|Total Robbery in Year|\n",
      "+----+---------------------+\n",
      "|2015|                  948|\n",
      "|2016|                 1506|\n",
      "|2017|                 1376|\n",
      "|2018|                  794|\n",
      "+----+---------------------+\n",
      "\n"
     ]
    }
   ],
   "source": [
    "filtering_robbery = crime_df.filter((crime_df.OFFENSE_CODE_GROUP==\"Robbery\")).select(crime_df.YEAR,crime_df.OFFENSE_CODE_GROUP)\n",
    "total_robbery = filtering_robbery.groupBy(\"YEAR\").count().orderBy(\"Year\").withColumnRenamed(\"count\",\"Total Robbery in Year\")\n",
    "total_robbery.show()\n",
    "\n",
    "# Saving O/P in Postgres\n",
    "total_robbery.write.format('jdbc').options(url='jdbc:postgresql://localhost:5432/postgres', driver='org.postgresql.Driver',\n",
    "                                   dbtable='Q3', user='fusemachines', password='hello123').mode('overwrite').save()"
   ]
  },
  {
   "cell_type": "markdown",
   "id": "cde8d464-705f-4fa7-bdca-1efee27e8e80",
   "metadata": {},
   "source": [
    "## 4.Show all  Offense_codes and names which are not listed in crime.csv but in offense_code.csv."
   ]
  },
  {
   "cell_type": "code",
   "execution_count": 65,
   "id": "cc97fdf9-e452-4b9c-a9cc-ac0424aeb912",
   "metadata": {},
   "outputs": [
    {
     "name": "stderr",
     "output_type": "stream",
     "text": [
      "                                                                                \r"
     ]
    },
    {
     "name": "stdout",
     "output_type": "stream",
     "text": [
      "+----+--------------------+\n",
      "|CODE|                NAME|\n",
      "+----+--------------------+\n",
      "|1731|              INCEST|\n",
      "|1711|OPEN & GROSS LEWD...|\n",
      "| 242|RAPE - ATTEMPT - ...|\n",
      "| 254|RAPE - COMPLETE -...|\n",
      "| 271|RAPE - COMPLETE -...|\n",
      "| 244|RAPE - ATTEMPT - ...|\n",
      "| 251|RAPE - COMPLETE -...|\n",
      "| 241|RAPE - ATTEMPT - ...|\n",
      "| 243|RAPE - ATTEMPT - ...|\n",
      "| 261|RAPE - ATTEMPT - ...|\n",
      "| 252|RAPE - COMPLETE -...|\n",
      "| 253|RAPE - COMPLETE -...|\n",
      "|1730|SEXUAL ASSAULT IN...|\n",
      "|1704|      STATUTORY RAPE|\n",
      "|2915| VAL - MISCELLANEOUS|\n",
      "|1721|FAILURE TO REGIST...|\n",
      "|1702|INDECENT ASSAULT ...|\n",
      "|1703|INDECENT EXPOSURE...|\n",
      "| 114|KILLING OF POLICE...|\n",
      "|1902|GAMBLING - OPERAT...|\n",
      "+----+--------------------+\n",
      "only showing top 20 rows\n",
      "\n"
     ]
    }
   ],
   "source": [
    "dfj1 = spark.read.csv(\"/home/saurav/Downloads/crime.csv\",header=True,inferSchema=True)\n",
    "dfj2 = spark.read.csv(\"/home/saurav/Downloads/offense_codes.csv\",header=True,inferSchema=True)\n",
    "\n",
    "result = dfj2.join(dfj1,dfj1.OFFENSE_CODE==dfj2.CODE,\"left_anti\")\n",
    "result.show()\n",
    "\n",
    "# Saving O/P in Postgres\n",
    "result.write.format('jdbc').options(url='jdbc:postgresql://localhost:5432/postgres', driver='org.postgresql.Driver',\n",
    "                                   dbtable='Q4', user='fusemachines', password='hello123').mode('overwrite').save()"
   ]
  },
  {
   "cell_type": "markdown",
   "id": "43f0ce5d-40dc-4489-a70d-33a01a91ba8b",
   "metadata": {},
   "source": [
    "## 5.List offense_description which is occurred on Sunday around time ‘21:30:00’"
   ]
  },
  {
   "cell_type": "code",
   "execution_count": 66,
   "id": "0138d12d-82d0-4d89-91e9-c48e907b9fc1",
   "metadata": {},
   "outputs": [
    {
     "name": "stdout",
     "output_type": "stream",
     "text": [
      "+--------------------+--------+\n",
      "| OFFENSE_DESCRIPTION|    Time|\n",
      "+--------------------+--------+\n",
      "|INVESTIGATE PROPERTY|21:30:00|\n",
      "|M/V - LEAVING SCE...|21:30:00|\n",
      "|    ROBBERY - STREET|21:30:00|\n",
      "|LARCENY THEFT FRO...|21:30:00|\n",
      "|M/V - LEAVING SCE...|21:30:00|\n",
      "|LARCENY THEFT FRO...|21:30:00|\n",
      "|  PROPERTY - MISSING|21:30:00|\n",
      "|M/V ACCIDENT - PR...|21:30:00|\n",
      "|M/V - LEAVING SCE...|21:30:00|\n",
      "|M/V - LEAVING SCE...|21:30:00|\n",
      "|    ROBBERY - STREET|21:30:00|\n",
      "|INVESTIGATE PROPERTY|21:30:00|\n",
      "|M/V - LEAVING SCE...|21:30:00|\n",
      "|        SUDDEN DEATH|21:30:00|\n",
      "|LARCENY THEFT FRO...|21:30:00|\n",
      "|M/V ACCIDENT - PR...|21:30:00|\n",
      "|M/V ACCIDENT INVO...|21:30:00|\n",
      "|VIOL. OF RESTRAIN...|21:30:00|\n",
      "|           VANDALISM|21:30:00|\n",
      "|LARCENY THEFT FRO...|21:30:00|\n",
      "+--------------------+--------+\n",
      "only showing top 20 rows\n",
      "\n"
     ]
    }
   ],
   "source": [
    "filter_day = crime_df.filter((crime_df.DAY_OF_WEEK == 'Sunday')).select(crime_df.OFFENSE_DESCRIPTION,crime_df.DAY_OF_WEEK,crime_df.OCCURRED_ON_DATE)\n",
    "select_time = filter_day.select(crime_df.OFFENSE_DESCRIPTION,date_format('OCCURRED_ON_DATE','HH:mm:ss')).withColumnRenamed('date_format(OCCURRED_ON_DATE, HH:mm:ss)','Time')\n",
    "final_result =select_time.filter(select_time.Time == '21:30:00')\n",
    "final_result.show()\n",
    "\n",
    "# Saving O/P in Postgres\n",
    "final_result.write.format('jdbc').options(url='jdbc:postgresql://localhost:5432/postgres', driver='org.postgresql.Driver',\n",
    "                                   dbtable='Q5', user='fusemachines', password='hello123').mode('overwrite').save()"
   ]
  }
 ],
 "metadata": {
  "kernelspec": {
   "display_name": "Python 3 (ipykernel)",
   "language": "python",
   "name": "python3"
  },
  "language_info": {
   "codemirror_mode": {
    "name": "ipython",
    "version": 3
   },
   "file_extension": ".py",
   "mimetype": "text/x-python",
   "name": "python",
   "nbconvert_exporter": "python",
   "pygments_lexer": "ipython3",
   "version": "3.8.10"
  }
 },
 "nbformat": 4,
 "nbformat_minor": 5
}
